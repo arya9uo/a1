{
 "nbformat": 4,
 "nbformat_minor": 0,
 "metadata": {
  "colab": {
   "name": "download_dataset.ipynb",
   "provenance": [],
   "collapsed_sections": []
  },
  "kernelspec": {
   "name": "python3",
   "display_name": "Python 3"
  },
  "language_info": {
   "name": "python"
  }
 },
 "cells": [
  {
   "cell_type": "code",
   "source": [
    "import wget\n",
    "common_prefix = \"https://d37ci6vzurychx.cloudfront.net/trip-data/\"\n",
    "cab_prefix = [\"yellow\", \"fhvhv\"]\n",
    "timespan = [\"2021-11\", \"2021-12\", \"2022-01\", \"2022-02\"]\n",
    "common_suffix = \"parquet\"\n",
    "\n",
    "for cab in cab_prefix:\n",
    "  url = common_prefix + cab + \"_\" \"tripdata\" + \"_\"\n",
    "  for time in timespan:\n",
    "    real_url = url + time + \".\" + common_suffix\n",
    "    print(real_url)\n",
    "    wget.download(real_url)\n",
    "   \n",
    "\n"
   ],
   "metadata": {
    "id": "kfsGX8QqLGeN",
    "pycharm": {
     "name": "#%%\n"
    }
   },
   "execution_count": 1,
   "outputs": [
    {
     "name": "stdout",
     "output_type": "stream",
     "text": [
      "https://d37ci6vzurychx.cloudfront.net/trip-data/yellow_tripdata_2021-11.parquet\n",
      "https://d37ci6vzurychx.cloudfront.net/trip-data/yellow_tripdata_2021-12.parquet\n",
      "https://d37ci6vzurychx.cloudfront.net/trip-data/yellow_tripdata_2022-01.parquet\n",
      "https://d37ci6vzurychx.cloudfront.net/trip-data/yellow_tripdata_2022-02.parquet\n",
      "https://d37ci6vzurychx.cloudfront.net/trip-data/fhvhv_tripdata_2021-11.parquet\n",
      "https://d37ci6vzurychx.cloudfront.net/trip-data/fhvhv_tripdata_2021-12.parquet\n",
      "https://d37ci6vzurychx.cloudfront.net/trip-data/fhvhv_tripdata_2022-01.parquet\n",
      "https://d37ci6vzurychx.cloudfront.net/trip-data/fhvhv_tripdata_2022-02.parquet\n"
     ]
    }
   ]
  },
  {
   "cell_type": "code",
   "source": [
    "wget.download(\"https://raw.githubusercontent.com/nytimes/covid-19-data/master/us-counties-2022.csv\")"
   ],
   "metadata": {
    "id": "_kcNiz_wSKJH",
    "pycharm": {
     "name": "#%%\n"
    }
   },
   "execution_count": 4,
   "outputs": [
    {
     "data": {
      "text/plain": "'us-counties-2022.csv'"
     },
     "execution_count": 4,
     "metadata": {},
     "output_type": "execute_result"
    }
   ]
  },
  {
   "cell_type": "code",
   "source": [
    "wget.download(\"https://raw.githubusercontent.com/nytimes/covid-19-data/master/us-counties-2021.csv\")"
   ],
   "metadata": {
    "colab": {
     "base_uri": "https://localhost:8080/"
    },
    "id": "KY6uLzuqQrkp",
    "outputId": "696df8fc-89cf-4ede-e91a-57401e3f3c0d",
    "pycharm": {
     "name": "#%%\n"
    }
   },
   "execution_count": 5,
   "outputs": [
    {
     "data": {
      "text/plain": "'us-counties-2021.csv'"
     },
     "execution_count": 5,
     "metadata": {},
     "output_type": "execute_result"
    }
   ]
  },
  {
   "cell_type": "code",
   "source": [
    "import os\n",
    "if not os.path.exists(\"../data/raw\"):\n",
    "  os.makedirs(\"../data/raw\")\n",
    "\n",
    "if not os.path.exists(\"../data/curated\"):\n",
    "  os.makedirs(\"../data/curated\")"
   ],
   "metadata": {
    "id": "LkyoryfCStp2",
    "pycharm": {
     "name": "#%%\n"
    }
   },
   "execution_count": 8,
   "outputs": []
  },
  {
   "cell_type": "code",
   "execution_count": 24,
   "outputs": [],
   "source": [
    "import glob\n",
    "import shutil\n",
    "for file in glob.glob(\"*parquet\"):\n",
    "  shutil.move(file, \"../data/raw/\")\n",
    "\n",
    "for file in glob.glob(\"*csv\"):\n",
    "  shutil.move(file, \"../data/raw/\")"
   ],
   "metadata": {
    "collapsed": false,
    "pycharm": {
     "name": "#%%\n"
    }
   }
  }
 ]
}